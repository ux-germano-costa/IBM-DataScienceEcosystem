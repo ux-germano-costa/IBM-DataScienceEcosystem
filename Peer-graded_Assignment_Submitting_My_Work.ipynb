{
 "cells": [
  {
   "cell_type": "markdown",
   "id": "ac87716b-1278-47f9-bec9-42d8f7c4d591",
   "metadata": {},
   "source": [
    "<h1><strong>Assignment Topic</strong>:</h1>\n",
    "\n",
    "<h2>I was provided with an empty Jupyterlite notebook which I launched in the course, to complete this assignment. I needed to include a combination of markdown and code cells. I did not needed to use the Markdown cheat sheet to help me determine the appropriate syntax for my markdown.</h2>\n",
    "\n",
    "<h3>Guidelines for the submission:</h3> <br>\n",
    "<h4>There are a total of 25 points possible for this final project.</h4>\n",
    "\n",
    "<h5>I hope I will succeed, based on the following Exercises:</h5>\n",
    "\n",
    "<ol>\n",
    "\n",
    "<li>Exercise 2 - Create a markdown cell with the title of the notebook. (1 pt)</li>\n",
    "\n",
    "<li>Exercise 3 - Create a markdown cell for an introduction. (1 pt)</li>\n",
    "\n",
    "<li>Exercise 4 - Create a markdown cell to list data science languages. (3 pts)</li>\n",
    "\n",
    "<li>Exercise 5 - Create a markdown cell to list data science libraries. (3 pts)</li>\n",
    "\n",
    "<li>Exercise 6 - Create a markdown cell with a table of Data Science tools. (3 pts)</li>\n",
    "\n",
    "<li>Exercise 7 - Create a markdown cell introducing arithmetic expression examples. (1 pt)</li>\n",
    "\n",
    "<li>Exercise 8 - Create a code cell to multiply and add numbers.(2 pts)</li>\n",
    "\n",
    "<li>Exercise 9 - Create a code cell to convert minutes to hours. (2 pts)</li>\n",
    "\n",
    "<li>Exercise 10 -Insert a markdown cell to list Objectives. (3 pts)</li>\n",
    "\n",
    "<li>Exercise 11 - Create a markdown cell to indicate the Author’s name. (2 pts)</li>\n",
    "\n",
    "<li>Exercise 12 - Share your notebook through GitHub (3 pts)</li>\n",
    "\n",
    "<li>Exercise 13 - Take a screenshot of the first page of the notebook. (1 pt)</li>\n",
    "    \n",
    "</ol>"
   ]
  },
  {
   "cell_type": "markdown",
   "id": "e279d3a2-7377-43d8-9338-c3e546a154e0",
   "metadata": {},
   "source": [
    "<h1>Exercise 1: Create a Jupyter Notebook</h1>"
   ]
  },
  {
   "cell_type": "markdown",
   "id": "90642806-01ec-49c8-868c-a667c92cdc6c",
   "metadata": {},
   "source": [
    "<h2><strong>Name:</strong> Peer-graded_Assignment_Submitting_My_Work</h2>"
   ]
  },
  {
   "cell_type": "markdown",
   "id": "fbe3312d-1bc3-4a88-9f0c-b3c4b32e71ef",
   "metadata": {},
   "source": [
    "<strong>Exercise 2 - Create a markdown cell with the title of the notebook.</strong>"
   ]
  },
  {
   "cell_type": "markdown",
   "id": "c0b7dd50-bacf-4dc0-98a1-6785b57fb181",
   "metadata": {},
   "source": [
    "<h1>Data Science Tools and Ecosystem</h1>"
   ]
  },
  {
   "cell_type": "markdown",
   "id": "a5b74512-a6ff-4dd2-89cc-d493d3bfd9fe",
   "metadata": {},
   "source": [
    "<strong>Exercise 3 - Create a markdown cell for an introduction. (1 pt)</strong>"
   ]
  },
  {
   "cell_type": "markdown",
   "id": "728d9b1f-1d0b-4eb3-996a-4453c25444b4",
   "metadata": {},
   "source": [
    "<p>In this notebook, Data Science Tools and Ecosystem are summarized.<p>"
   ]
  },
  {
   "cell_type": "markdown",
   "id": "b2b9bcf3-2c0b-48a1-bade-d6c3b8dc774e",
   "metadata": {},
   "source": [
    "<strong>Objectives:</strong>\n",
    "<ul>\n",
    "    <li>List popular languages that Data Scientists use.</li>\n",
    "    <li>List commonly used libraries used by Data Scientists.</li>\n",
    "    <li>Comment on Data Science tools.</li>\n",
    "</ul>\n",
    "    "
   ]
  },
  {
   "cell_type": "markdown",
   "id": "6015b630-954a-4096-bfc0-dc28b53a378c",
   "metadata": {},
   "source": [
    "<strong>Exercise 4 - Create a markdown cell to list data science languages. (3 pts)</strong>"
   ]
  },
  {
   "cell_type": "markdown",
   "id": "3c957deb-56d8-43b4-9ab9-7f5efea83c17",
   "metadata": {},
   "source": [
    "Some of the popular languages that Data Scientists use are:\n",
    "<ol>\n",
    "    <li>Python.</li>\n",
    "    <li>R.</li>\n",
    "    <li>SQL.</li>\n",
    "    <li>Java.</li>\n",
    "    <li>Julia.</li>\n",
    "    <li>Scala.</li>\n",
    "    <li>C/C++.</li>\n",
    "    <li>JavaScript.</li>\n",
    "</ol>\n"
   ]
  },
  {
   "cell_type": "markdown",
   "id": "2e054783-ae15-402a-8391-6fbb81ec784a",
   "metadata": {},
   "source": [
    "<strong>Exercise 5 - Create a markdown cell to list data science libraries. (3 pts)</strong>"
   ]
  },
  {
   "cell_type": "markdown",
   "id": "5c211684-5f77-4c28-bd23-590a3ab0b368",
   "metadata": {},
   "source": [
    "Some of the commonly used libraries used by Data Scientists include:\n",
    "<ol>\n",
    "    <li>TensorFlow.</li>\n",
    "    <li>NumPy.</li>\n",
    "    <li>SciPy.</li>\n",
    "    <li>Pandas.</li>\n",
    "    <li>Matplotlib.</li>\n",
    "    <li>Keras.</li>\n",
    "    <li>SciKit-Learn.</li>\n",
    "    <li>PyTorch.</li>\n",
    "    <li>Scrapy.</li>\n",
    "    <li>BeautifulSoup.</li>\n",
    "    <li>LightGBM.</li>\n",
    "    <li>ELI5.</li>\n",
    "    <li>Theano.</li>\n",
    "    <li>NuPIC.</li>\n",
    "    <li>Ramp.</li>\n",
    "    <li>Pipenv.</li>\n",
    "    <li>Bob.</li>\n",
    "    <li>PyBrain.</li>\n",
    "    <li>Caffe2.</li>\n",
    "    <li>Chainer.</li>\n",
    "</ol>"
   ]
  },
  {
   "cell_type": "markdown",
   "id": "22f68c77-7e82-427a-8e8d-12c0a609989a",
   "metadata": {},
   "source": [
    "<strong>Exercise 6 - Create a markdown cell with a table of Data Science tools. (3 pts)</strong>"
   ]
  },
  {
   "cell_type": "markdown",
   "id": "34f750eb-46e1-46e8-b8a1-45bf703d5cdb",
   "metadata": {},
   "source": [
    "Data Science Tools:\n",
    "\n",
    "<table style=\"width:100%\">\n",
    "  <tr>\n",
    "    <th>Data Science Tools</th>\n",
    "    <th></th>\n",
    "    <th></th>\n",
    "  </tr>\n",
    "  <tr>\n",
    "    <td>SAS. It is one of those data science tools which are specifically designed for statistical operation</td>\n",
    "    <td></td>\n",
    "    <td></td>\n",
    "  </tr>\n",
    "  <tr>\n",
    "    <td>Apache Spark</td>\n",
    "    <td></td>\n",
    "    <td></td>\n",
    "  </tr>\n",
    "  <tr>\n",
    "    <td>BigML</td>\n",
    "    <td></td>\n",
    "    <td></td>\n",
    "  </tr>\n",
    "</table>"
   ]
  },
  {
   "cell_type": "markdown",
   "id": "0ff5d698-28c6-4af7-9fbf-3c8aeac5c162",
   "metadata": {},
   "source": [
    "<strong>Exercise 7 - Create a markdown cell introducing arithmetic expression examples. (1 pt)</strong>"
   ]
  },
  {
   "cell_type": "markdown",
   "id": "05ff289f-d200-40f5-817a-f2d1d65e3474",
   "metadata": {},
   "source": [
    "<h3>Below are a few examples of evaluating arithmetic expressions in Python</h3>"
   ]
  },
  {
   "cell_type": "code",
   "execution_count": 27,
   "id": "1b0019a7-0338-4d65-863d-3a35f0ca72ff",
   "metadata": {},
   "outputs": [
    {
     "data": {
      "text/plain": [
       "9"
      ]
     },
     "execution_count": 27,
     "metadata": {},
     "output_type": "execute_result"
    }
   ],
   "source": [
    "# Arithmetic operations\n",
    "code = compile(\"5 + 4\", \"<string>\", \"eval\")\n",
    "eval(code)\n",
    "# Result: 9\n"
   ]
  },
  {
   "cell_type": "code",
   "execution_count": 28,
   "id": "ee49c688-2610-4a78-8947-d12f976e940a",
   "metadata": {},
   "outputs": [
    {
     "data": {
      "text/plain": [
       "24"
      ]
     },
     "execution_count": 28,
     "metadata": {},
     "output_type": "execute_result"
    }
   ],
   "source": [
    "code1 = compile(\"(5 + 7) * 2\", \"<string>\", \"eval\")\n",
    "eval(code1)\n",
    "# Result: 24"
   ]
  },
  {
   "cell_type": "code",
   "execution_count": 29,
   "id": "812b1380-c75c-4854-9eaf-707c1ca6740d",
   "metadata": {},
   "outputs": [
    {
     "data": {
      "text/plain": [
       "65449.84694978735"
      ]
     },
     "execution_count": 29,
     "metadata": {},
     "output_type": "execute_result"
    }
   ],
   "source": [
    "import math\n",
    "# Volume of a sphere\n",
    "code2 = compile(\"4 / 3 * math.pi * math.pow(25, 3)\", \"<string>\", \"eval\")\n",
    "eval(code2)\n",
    "# Result: 65449.84694978735"
   ]
  },
  {
   "cell_type": "markdown",
   "id": "631c4d61-6e2b-45ac-a6a7-e12c80a37434",
   "metadata": {},
   "source": [
    "<strong>Exercise 8 - Create a code cell to multiply and add numbers.(2 pts)</strong>"
   ]
  },
  {
   "cell_type": "markdown",
   "id": "a556813e-c573-45d9-a354-b3c4545c24ef",
   "metadata": {},
   "source": [
    "This a simple arithmetic expression to mutiply then add integers"
   ]
  },
  {
   "cell_type": "code",
   "execution_count": 30,
   "id": "ae03f72b-2c05-4884-ae94-adc07167487d",
   "metadata": {},
   "outputs": [
    {
     "data": {
      "text/plain": [
       "17"
      ]
     },
     "execution_count": 30,
     "metadata": {},
     "output_type": "execute_result"
    }
   ],
   "source": [
    "(3*4)+5\n",
    "# Result: 17"
   ]
  },
  {
   "cell_type": "markdown",
   "id": "0d55da1f-c304-40e5-84ce-14243b70e2c0",
   "metadata": {},
   "source": [
    "<strong>Exercise 9 - Create a code cell to convert minutes to hours. (2 pts)</strong>"
   ]
  },
  {
   "cell_type": "markdown",
   "id": "6a52fcb4-00de-4a39-b368-db083fbc4d61",
   "metadata": {},
   "source": [
    "This will convert 200 minutes to hours by diving by 60"
   ]
  },
  {
   "cell_type": "code",
   "execution_count": 31,
   "id": "383731de-c25b-4b4f-a1ce-44f26b6ae2ab",
   "metadata": {},
   "outputs": [
    {
     "name": "stdout",
     "output_type": "stream",
     "text": [
      "0 days, 3.3333333333333335 hours, 0 mins. \n"
     ]
    }
   ],
   "source": [
    "days = 0\n",
    "hours = 0\n",
    "mins = 0\n",
    "\n",
    "time = 200\n",
    "#days = time / 1440\n",
    "leftover_minutes = time % 1440\n",
    "hours = leftover_minutes / 60\n",
    "#mins = time - (days*1440) - (hours*60)\n",
    "print(str(days) + \" days, \" + str(hours) + \" hours, \" + str(mins) +  \" mins. \")\n",
    "\n",
    "# Result: 3.3333333333333335 hours"
   ]
  },
  {
   "cell_type": "markdown",
   "id": "8df63065-35dc-4418-a0dc-51c8589c0ce6",
   "metadata": {},
   "source": [
    "<strong>Exercise 10 -Insert a markdown cell to list Objectives.</strong>"
   ]
  },
  {
   "cell_type": "markdown",
   "id": "2ab21b9e-1ba9-4739-a770-c672cb525d65",
   "metadata": {},
   "source": [
    "<p>Below the introduction cell created in Exercise 3, insert a new markdown cell to list the objectives that this notebook covered (i.e. some of the key takeaways from the course). In this new cell start with an introductory line titled: Objectives: in bold font. Then using an unordered list (bullets) indicate 3 to 5 items covered in this notebook, such as List popular languages for Data Science.</p>"
   ]
  },
  {
   "cell_type": "markdown",
   "id": "2fe637ac-7c3c-4053-9a9f-7cadbb99d5b6",
   "metadata": {},
   "source": [
    "<strong>Exercise 11 - Create a markdown cell to indicate the Author’s name.</strong>"
   ]
  },
  {
   "cell_type": "markdown",
   "id": "ee566760-e4a1-4439-baf6-5e54e551929f",
   "metadata": {},
   "source": [
    "<h2>Author:</h2> Frederickv Albornoz"
   ]
  }
 ],
 "metadata": {
  "kernelspec": {
   "display_name": "Python",
   "language": "python",
   "name": "conda-env-python-py"
  },
  "language_info": {
   "codemirror_mode": {
    "name": "ipython",
    "version": 3
   },
   "file_extension": ".py",
   "mimetype": "text/x-python",
   "name": "python",
   "nbconvert_exporter": "python",
   "pygments_lexer": "ipython3",
   "version": "3.7.12"
  }
 },
 "nbformat": 4,
 "nbformat_minor": 5
}
